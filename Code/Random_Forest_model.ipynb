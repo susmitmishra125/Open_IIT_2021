{
 "cells": [
  {
   "cell_type": "markdown",
   "metadata": {
    "id": "-GD6C4LPCA8B"
   },
   "source": [
    "# Importing data\n",
    "[train_med.csv](https://drive.google.com/file/d/1bwdczQJSWgyztyk54YW6qwoEesoTCfJH/view?usp=sharing)\n",
    "\n",
    "[train_lw_rw.csv](https://drive.google.com/file/d/1iL8BeQ11IMTiKSnhlKMi402CU-BdXHyE/view?usp=sharing)"
   ]
  },
  {
   "cell_type": "code",
   "execution_count": 5,
   "metadata": {
    "colab": {
     "base_uri": "https://localhost:8080/"
    },
    "id": "gj3yPl8yCGNF",
    "outputId": "aa96ff61-bbff-44c4-a2e8-91b332c16293"
   },
   "outputs": [],
   "source": [
    "# !gdown --id 1bwdczQJSWgyztyk54YW6qwoEesoTCfJH\n",
    "# !gdown --id 1iL8BeQ11IMTiKSnhlKMi402CU-BdXHyE"
   ]
  },
  {
   "cell_type": "code",
   "execution_count": 2,
   "metadata": {
    "id": "DhZ6DYtYC6XZ"
   },
   "outputs": [],
   "source": [
    "import numpy as np\n",
    "import pandas as pd\n",
    "import warnings\n",
    "\n",
    "## Plotting libraries\n",
    "import seaborn as sns\n",
    "import matplotlib.pyplot as plt\n",
    "\n",
    "## Sklearn Libraries\n",
    "from sklearn.utils import shuffle\n",
    "from sklearn.preprocessing import StandardScaler\n",
    "from sklearn.model_selection import train_test_split\n",
    "from sklearn.model_selection import StratifiedKFold\n",
    "from sklearn.model_selection import cross_val_score\n",
    "from sklearn.ensemble import RandomForestClassifier\n",
    "from sklearn.model_selection import GridSearchCV\n",
    "from sklearn.metrics import make_scorer\n",
    "from sklearn.metrics import f1_score, confusion_matrix, roc_curve, auc, \\\n",
    "            classification_report, recall_score, precision_recall_curve\n",
    "from sklearn.preprocessing import label_binarize\n",
    "\n",
    "\n",
    "random_state = 2021\n",
    "np.random.seed(random_state)\n",
    "warnings.filterwarnings('ignore')"
   ]
  },
  {
   "cell_type": "code",
   "execution_count": 13,
   "metadata": {
    "id": "S3TcayLQDXxa"
   },
   "outputs": [
    {
     "data": {
      "text/html": [
       "<div>\n",
       "<style scoped>\n",
       "    .dataframe tbody tr th:only-of-type {\n",
       "        vertical-align: middle;\n",
       "    }\n",
       "\n",
       "    .dataframe tbody tr th {\n",
       "        vertical-align: top;\n",
       "    }\n",
       "\n",
       "    .dataframe thead th {\n",
       "        text-align: right;\n",
       "    }\n",
       "</style>\n",
       "<table border=\"1\" class=\"dataframe\">\n",
       "  <thead>\n",
       "    <tr style=\"text-align: right;\">\n",
       "      <th></th>\n",
       "      <th>Unnamed: 0</th>\n",
       "      <th>id</th>\n",
       "      <th>acousticness</th>\n",
       "      <th>danceability</th>\n",
       "      <th>energy</th>\n",
       "      <th>explicit</th>\n",
       "      <th>instrumentalness</th>\n",
       "      <th>key</th>\n",
       "      <th>liveness</th>\n",
       "      <th>loudness</th>\n",
       "      <th>mode</th>\n",
       "      <th>release_date</th>\n",
       "      <th>speechiness</th>\n",
       "      <th>tempo</th>\n",
       "      <th>valence</th>\n",
       "      <th>year</th>\n",
       "      <th>duration-min</th>\n",
       "      <th>popularity</th>\n",
       "      <th>release_month</th>\n",
       "      <th>dateofmonth</th>\n",
       "    </tr>\n",
       "  </thead>\n",
       "  <tbody>\n",
       "    <tr>\n",
       "      <th>0</th>\n",
       "      <td>0</td>\n",
       "      <td>2015</td>\n",
       "      <td>0.949</td>\n",
       "      <td>0.235</td>\n",
       "      <td>0.0276</td>\n",
       "      <td>1</td>\n",
       "      <td>0.139125</td>\n",
       "      <td>5</td>\n",
       "      <td>0.4857</td>\n",
       "      <td>-24.28275</td>\n",
       "      <td>1</td>\n",
       "      <td>1947-01-01</td>\n",
       "      <td>0.0381</td>\n",
       "      <td>110.838</td>\n",
       "      <td>0.0398</td>\n",
       "      <td>1947</td>\n",
       "      <td>3.0</td>\n",
       "      <td>1</td>\n",
       "      <td>1</td>\n",
       "      <td>1</td>\n",
       "    </tr>\n",
       "    <tr>\n",
       "      <th>1</th>\n",
       "      <td>1</td>\n",
       "      <td>15901</td>\n",
       "      <td>0.855</td>\n",
       "      <td>0.456</td>\n",
       "      <td>0.4850</td>\n",
       "      <td>1</td>\n",
       "      <td>0.088400</td>\n",
       "      <td>4</td>\n",
       "      <td>0.1510</td>\n",
       "      <td>-10.04600</td>\n",
       "      <td>1</td>\n",
       "      <td>2020-11-13</td>\n",
       "      <td>0.0437</td>\n",
       "      <td>152.066</td>\n",
       "      <td>0.8590</td>\n",
       "      <td>2020</td>\n",
       "      <td>2.4</td>\n",
       "      <td>2</td>\n",
       "      <td>11</td>\n",
       "      <td>318</td>\n",
       "    </tr>\n",
       "    <tr>\n",
       "      <th>2</th>\n",
       "      <td>2</td>\n",
       "      <td>9002</td>\n",
       "      <td>0.827</td>\n",
       "      <td>0.495</td>\n",
       "      <td>0.4990</td>\n",
       "      <td>1</td>\n",
       "      <td>0.000000</td>\n",
       "      <td>0</td>\n",
       "      <td>0.4010</td>\n",
       "      <td>-8.00900</td>\n",
       "      <td>0</td>\n",
       "      <td>1950-01-01</td>\n",
       "      <td>0.0474</td>\n",
       "      <td>108.004</td>\n",
       "      <td>0.7090</td>\n",
       "      <td>1950</td>\n",
       "      <td>2.6</td>\n",
       "      <td>1</td>\n",
       "      <td>1</td>\n",
       "      <td>1</td>\n",
       "    </tr>\n",
       "    <tr>\n",
       "      <th>3</th>\n",
       "      <td>3</td>\n",
       "      <td>6734</td>\n",
       "      <td>0.654</td>\n",
       "      <td>0.643</td>\n",
       "      <td>0.4690</td>\n",
       "      <td>1</td>\n",
       "      <td>0.108000</td>\n",
       "      <td>7</td>\n",
       "      <td>0.2180</td>\n",
       "      <td>-15.91700</td>\n",
       "      <td>1</td>\n",
       "      <td>1974-04-30</td>\n",
       "      <td>0.0368</td>\n",
       "      <td>83.636</td>\n",
       "      <td>0.9640</td>\n",
       "      <td>1974</td>\n",
       "      <td>2.4</td>\n",
       "      <td>2</td>\n",
       "      <td>4</td>\n",
       "      <td>120</td>\n",
       "    </tr>\n",
       "    <tr>\n",
       "      <th>4</th>\n",
       "      <td>4</td>\n",
       "      <td>15563</td>\n",
       "      <td>0.738</td>\n",
       "      <td>0.705</td>\n",
       "      <td>0.3110</td>\n",
       "      <td>1</td>\n",
       "      <td>0.000000</td>\n",
       "      <td>5</td>\n",
       "      <td>0.3220</td>\n",
       "      <td>-12.34400</td>\n",
       "      <td>1</td>\n",
       "      <td>1973-01-01</td>\n",
       "      <td>0.0488</td>\n",
       "      <td>117.260</td>\n",
       "      <td>0.7850</td>\n",
       "      <td>1973</td>\n",
       "      <td>3.4</td>\n",
       "      <td>3</td>\n",
       "      <td>1</td>\n",
       "      <td>1</td>\n",
       "    </tr>\n",
       "  </tbody>\n",
       "</table>\n",
       "</div>"
      ],
      "text/plain": [
       "   Unnamed: 0     id  acousticness  danceability  energy  explicit  \\\n",
       "0           0   2015         0.949         0.235  0.0276         1   \n",
       "1           1  15901         0.855         0.456  0.4850         1   \n",
       "2           2   9002         0.827         0.495  0.4990         1   \n",
       "3           3   6734         0.654         0.643  0.4690         1   \n",
       "4           4  15563         0.738         0.705  0.3110         1   \n",
       "\n",
       "   instrumentalness  key  liveness  loudness  mode release_date  speechiness  \\\n",
       "0          0.139125    5    0.4857 -24.28275     1   1947-01-01       0.0381   \n",
       "1          0.088400    4    0.1510 -10.04600     1   2020-11-13       0.0437   \n",
       "2          0.000000    0    0.4010  -8.00900     0   1950-01-01       0.0474   \n",
       "3          0.108000    7    0.2180 -15.91700     1   1974-04-30       0.0368   \n",
       "4          0.000000    5    0.3220 -12.34400     1   1973-01-01       0.0488   \n",
       "\n",
       "     tempo  valence  year  duration-min  popularity  release_month  \\\n",
       "0  110.838   0.0398  1947           3.0           1              1   \n",
       "1  152.066   0.8590  2020           2.4           2             11   \n",
       "2  108.004   0.7090  1950           2.6           1              1   \n",
       "3   83.636   0.9640  1974           2.4           2              4   \n",
       "4  117.260   0.7850  1973           3.4           3              1   \n",
       "\n",
       "   dateofmonth  \n",
       "0            1  \n",
       "1          318  \n",
       "2            1  \n",
       "3          120  \n",
       "4            1  "
      ]
     },
     "execution_count": 13,
     "metadata": {},
     "output_type": "execute_result"
    }
   ],
   "source": [
    "# train=pd.read_csv(r'D:\\Projects\\Data_Science\\DA open Hall 2021\\dataset\\train_med.csv')\n",
    "train=pd.read_csv(r'D:\\Projects\\Data_Science\\DA open Hall 2021\\dataset\\Train_final.csv')\n",
    "train.head()"
   ]
  },
  {
   "cell_type": "markdown",
   "metadata": {
    "id": "PyKAfspqGpYe"
   },
   "source": [
    "#Class Distribution"
   ]
  },
  {
   "cell_type": "code",
   "execution_count": 7,
   "metadata": {
    "id": "whiYxWKADoJs"
   },
   "outputs": [],
   "source": [
    "label_count = train.groupby('popularity', as_index = False).count()"
   ]
  },
  {
   "cell_type": "code",
   "execution_count": 8,
   "metadata": {
    "colab": {
     "base_uri": "https://localhost:8080/"
    },
    "id": "c6nTPpdCGm4E",
    "outputId": "1336cddf-f67a-4a51-bd21-4b4b1f06955c"
   },
   "outputs": [
    {
     "name": "stdout",
     "output_type": "stream",
     "text": [
      "[3222, 3118, 2912, 2606, 369]\n"
     ]
    }
   ],
   "source": [
    "class_name = list(label_count['popularity'])\n",
    "count = list(label_count['id'])\n",
    "print(count)"
   ]
  },
  {
   "cell_type": "code",
   "execution_count": 9,
   "metadata": {
    "colab": {
     "base_uri": "https://localhost:8080/",
     "height": 305
    },
    "id": "t1vp3xlzG227",
    "outputId": "1952b71e-ccff-46db-e32b-4ff5f8dcd7ec"
   },
   "outputs": [
    {
     "data": {
      "image/png": "[encoded data removed]",
      "text/plain": [
       "<Figure size 432x288 with 1 Axes>"
      ]
     },
     "metadata": {
      "needs_background": "light"
     },
     "output_type": "display_data"
    }
   ],
   "source": [
    "index = np.arange(len(class_name))\n",
    "# plt.bar(class_name, count)\n",
    "sns.barplot(x=class_name, y=count, linewidth=2.5, errcolor=\".2\", edgecolor=\".2\")\n",
    "plt.xlabel('Class', fontsize=15)\n",
    "plt.ylabel('Number of data', fontsize=15)\n",
    "plt.xticks(index, class_name, fontsize=15)\n",
    "plt.title('Class distribution')\n",
    "plt.show()"
   ]
  },
  {
   "cell_type": "code",
   "execution_count": 11,
   "metadata": {},
   "outputs": [
    {
     "data": {
      "text/html": [
       "<div>\n",
       "<style scoped>\n",
       "    .dataframe tbody tr th:only-of-type {\n",
       "        vertical-align: middle;\n",
       "    }\n",
       "\n",
       "    .dataframe tbody tr th {\n",
       "        vertical-align: top;\n",
       "    }\n",
       "\n",
       "    .dataframe thead th {\n",
       "        text-align: right;\n",
       "    }\n",
       "</style>\n",
       "<table border=\"1\" class=\"dataframe\">\n",
       "  <thead>\n",
       "    <tr style=\"text-align: right;\">\n",
       "      <th></th>\n",
       "      <th>acousticness</th>\n",
       "      <th>danceability</th>\n",
       "      <th>energy</th>\n",
       "      <th>explicit</th>\n",
       "      <th>instrumentalness</th>\n",
       "      <th>key</th>\n",
       "      <th>liveness</th>\n",
       "      <th>loudness</th>\n",
       "      <th>mode</th>\n",
       "      <th>speechiness</th>\n",
       "      <th>tempo</th>\n",
       "      <th>valence</th>\n",
       "      <th>year</th>\n",
       "      <th>duration-min</th>\n",
       "      <th>popularity</th>\n",
       "      <th>release_month</th>\n",
       "      <th>dateofmonth</th>\n",
       "    </tr>\n",
       "  </thead>\n",
       "  <tbody>\n",
       "    <tr>\n",
       "      <th>0</th>\n",
       "      <td>0.949</td>\n",
       "      <td>0.235</td>\n",
       "      <td>0.0276</td>\n",
       "      <td>1</td>\n",
       "      <td>0.139125</td>\n",
       "      <td>5</td>\n",
       "      <td>0.4857</td>\n",
       "      <td>-24.28275</td>\n",
       "      <td>1</td>\n",
       "      <td>0.0381</td>\n",
       "      <td>110.838</td>\n",
       "      <td>0.0398</td>\n",
       "      <td>1947</td>\n",
       "      <td>3.0</td>\n",
       "      <td>1</td>\n",
       "      <td>1</td>\n",
       "      <td>1</td>\n",
       "    </tr>\n",
       "    <tr>\n",
       "      <th>1</th>\n",
       "      <td>0.855</td>\n",
       "      <td>0.456</td>\n",
       "      <td>0.4850</td>\n",
       "      <td>1</td>\n",
       "      <td>0.088400</td>\n",
       "      <td>4</td>\n",
       "      <td>0.1510</td>\n",
       "      <td>-10.04600</td>\n",
       "      <td>1</td>\n",
       "      <td>0.0437</td>\n",
       "      <td>152.066</td>\n",
       "      <td>0.8590</td>\n",
       "      <td>2020</td>\n",
       "      <td>2.4</td>\n",
       "      <td>2</td>\n",
       "      <td>11</td>\n",
       "      <td>318</td>\n",
       "    </tr>\n",
       "    <tr>\n",
       "      <th>2</th>\n",
       "      <td>0.827</td>\n",
       "      <td>0.495</td>\n",
       "      <td>0.4990</td>\n",
       "      <td>1</td>\n",
       "      <td>0.000000</td>\n",
       "      <td>0</td>\n",
       "      <td>0.4010</td>\n",
       "      <td>-8.00900</td>\n",
       "      <td>0</td>\n",
       "      <td>0.0474</td>\n",
       "      <td>108.004</td>\n",
       "      <td>0.7090</td>\n",
       "      <td>1950</td>\n",
       "      <td>2.6</td>\n",
       "      <td>1</td>\n",
       "      <td>1</td>\n",
       "      <td>1</td>\n",
       "    </tr>\n",
       "    <tr>\n",
       "      <th>3</th>\n",
       "      <td>0.654</td>\n",
       "      <td>0.643</td>\n",
       "      <td>0.4690</td>\n",
       "      <td>1</td>\n",
       "      <td>0.108000</td>\n",
       "      <td>7</td>\n",
       "      <td>0.2180</td>\n",
       "      <td>-15.91700</td>\n",
       "      <td>1</td>\n",
       "      <td>0.0368</td>\n",
       "      <td>83.636</td>\n",
       "      <td>0.9640</td>\n",
       "      <td>1974</td>\n",
       "      <td>2.4</td>\n",
       "      <td>2</td>\n",
       "      <td>4</td>\n",
       "      <td>120</td>\n",
       "    </tr>\n",
       "    <tr>\n",
       "      <th>4</th>\n",
       "      <td>0.738</td>\n",
       "      <td>0.705</td>\n",
       "      <td>0.3110</td>\n",
       "      <td>1</td>\n",
       "      <td>0.000000</td>\n",
       "      <td>5</td>\n",
       "      <td>0.3220</td>\n",
       "      <td>-12.34400</td>\n",
       "      <td>1</td>\n",
       "      <td>0.0488</td>\n",
       "      <td>117.260</td>\n",
       "      <td>0.7850</td>\n",
       "      <td>1973</td>\n",
       "      <td>3.4</td>\n",
       "      <td>3</td>\n",
       "      <td>1</td>\n",
       "      <td>1</td>\n",
       "    </tr>\n",
       "  </tbody>\n",
       "</table>\n",
       "</div>"
      ],
      "text/plain": [
       "   acousticness  danceability  energy  explicit  instrumentalness  key  \\\n",
       "0         0.949         0.235  0.0276         1          0.139125    5   \n",
       "1         0.855         0.456  0.4850         1          0.088400    4   \n",
       "2         0.827         0.495  0.4990         1          0.000000    0   \n",
       "3         0.654         0.643  0.4690         1          0.108000    7   \n",
       "4         0.738         0.705  0.3110         1          0.000000    5   \n",
       "\n",
       "   liveness  loudness  mode  speechiness    tempo  valence  year  \\\n",
       "0    0.4857 -24.28275     1       0.0381  110.838   0.0398  1947   \n",
       "1    0.1510 -10.04600     1       0.0437  152.066   0.8590  2020   \n",
       "2    0.4010  -8.00900     0       0.0474  108.004   0.7090  1950   \n",
       "3    0.2180 -15.91700     1       0.0368   83.636   0.9640  1974   \n",
       "4    0.3220 -12.34400     1       0.0488  117.260   0.7850  1973   \n",
       "\n",
       "   duration-min  popularity  release_month  dateofmonth  \n",
       "0           3.0           1              1            1  \n",
       "1           2.4           2             11          318  \n",
       "2           2.6           1              1            1  \n",
       "3           2.4           2              4          120  \n",
       "4           3.4           3              1            1  "
      ]
     },
     "execution_count": 11,
     "metadata": {},
     "output_type": "execute_result"
    }
   ],
   "source": [
    "train.head()"
   ]
  },
  {
   "cell_type": "code",
   "execution_count": 14,
   "metadata": {
    "colab": {
     "base_uri": "https://localhost:8080/",
     "height": 244
    },
    "id": "CL7vJt6EKwae",
    "outputId": "cf70c14c-aa3c-41c4-e63a-a3b95cd675c5"
   },
   "outputs": [
    {
     "data": {
      "text/html": [
       "<div>\n",
       "<style scoped>\n",
       "    .dataframe tbody tr th:only-of-type {\n",
       "        vertical-align: middle;\n",
       "    }\n",
       "\n",
       "    .dataframe tbody tr th {\n",
       "        vertical-align: top;\n",
       "    }\n",
       "\n",
       "    .dataframe thead th {\n",
       "        text-align: right;\n",
       "    }\n",
       "</style>\n",
       "<table border=\"1\" class=\"dataframe\">\n",
       "  <thead>\n",
       "    <tr style=\"text-align: right;\">\n",
       "      <th></th>\n",
       "      <th>acousticness</th>\n",
       "      <th>danceability</th>\n",
       "      <th>energy</th>\n",
       "      <th>explicit</th>\n",
       "      <th>instrumentalness</th>\n",
       "      <th>key</th>\n",
       "      <th>liveness</th>\n",
       "      <th>loudness</th>\n",
       "      <th>mode</th>\n",
       "      <th>speechiness</th>\n",
       "      <th>tempo</th>\n",
       "      <th>valence</th>\n",
       "      <th>year</th>\n",
       "      <th>duration-min</th>\n",
       "      <th>popularity</th>\n",
       "      <th>release_month</th>\n",
       "      <th>dateofmonth</th>\n",
       "    </tr>\n",
       "  </thead>\n",
       "  <tbody>\n",
       "    <tr>\n",
       "      <th>0</th>\n",
       "      <td>0.949</td>\n",
       "      <td>0.235</td>\n",
       "      <td>0.0276</td>\n",
       "      <td>1</td>\n",
       "      <td>0.139125</td>\n",
       "      <td>5</td>\n",
       "      <td>0.4857</td>\n",
       "      <td>-24.28275</td>\n",
       "      <td>1</td>\n",
       "      <td>0.0381</td>\n",
       "      <td>110.838</td>\n",
       "      <td>0.0398</td>\n",
       "      <td>1947</td>\n",
       "      <td>3.0</td>\n",
       "      <td>1</td>\n",
       "      <td>1</td>\n",
       "      <td>1</td>\n",
       "    </tr>\n",
       "    <tr>\n",
       "      <th>1</th>\n",
       "      <td>0.855</td>\n",
       "      <td>0.456</td>\n",
       "      <td>0.4850</td>\n",
       "      <td>1</td>\n",
       "      <td>0.088400</td>\n",
       "      <td>4</td>\n",
       "      <td>0.1510</td>\n",
       "      <td>-10.04600</td>\n",
       "      <td>1</td>\n",
       "      <td>0.0437</td>\n",
       "      <td>152.066</td>\n",
       "      <td>0.8590</td>\n",
       "      <td>2020</td>\n",
       "      <td>2.4</td>\n",
       "      <td>2</td>\n",
       "      <td>11</td>\n",
       "      <td>318</td>\n",
       "    </tr>\n",
       "    <tr>\n",
       "      <th>2</th>\n",
       "      <td>0.827</td>\n",
       "      <td>0.495</td>\n",
       "      <td>0.4990</td>\n",
       "      <td>1</td>\n",
       "      <td>0.000000</td>\n",
       "      <td>0</td>\n",
       "      <td>0.4010</td>\n",
       "      <td>-8.00900</td>\n",
       "      <td>0</td>\n",
       "      <td>0.0474</td>\n",
       "      <td>108.004</td>\n",
       "      <td>0.7090</td>\n",
       "      <td>1950</td>\n",
       "      <td>2.6</td>\n",
       "      <td>1</td>\n",
       "      <td>1</td>\n",
       "      <td>1</td>\n",
       "    </tr>\n",
       "    <tr>\n",
       "      <th>3</th>\n",
       "      <td>0.654</td>\n",
       "      <td>0.643</td>\n",
       "      <td>0.4690</td>\n",
       "      <td>1</td>\n",
       "      <td>0.108000</td>\n",
       "      <td>7</td>\n",
       "      <td>0.2180</td>\n",
       "      <td>-15.91700</td>\n",
       "      <td>1</td>\n",
       "      <td>0.0368</td>\n",
       "      <td>83.636</td>\n",
       "      <td>0.9640</td>\n",
       "      <td>1974</td>\n",
       "      <td>2.4</td>\n",
       "      <td>2</td>\n",
       "      <td>4</td>\n",
       "      <td>120</td>\n",
       "    </tr>\n",
       "    <tr>\n",
       "      <th>4</th>\n",
       "      <td>0.738</td>\n",
       "      <td>0.705</td>\n",
       "      <td>0.3110</td>\n",
       "      <td>1</td>\n",
       "      <td>0.000000</td>\n",
       "      <td>5</td>\n",
       "      <td>0.3220</td>\n",
       "      <td>-12.34400</td>\n",
       "      <td>1</td>\n",
       "      <td>0.0488</td>\n",
       "      <td>117.260</td>\n",
       "      <td>0.7850</td>\n",
       "      <td>1973</td>\n",
       "      <td>3.4</td>\n",
       "      <td>3</td>\n",
       "      <td>1</td>\n",
       "      <td>1</td>\n",
       "    </tr>\n",
       "  </tbody>\n",
       "</table>\n",
       "</div>"
      ],
      "text/plain": [
       "   acousticness  danceability  energy  explicit  instrumentalness  key  \\\n",
       "0         0.949         0.235  0.0276         1          0.139125    5   \n",
       "1         0.855         0.456  0.4850         1          0.088400    4   \n",
       "2         0.827         0.495  0.4990         1          0.000000    0   \n",
       "3         0.654         0.643  0.4690         1          0.108000    7   \n",
       "4         0.738         0.705  0.3110         1          0.000000    5   \n",
       "\n",
       "   liveness  loudness  mode  speechiness    tempo  valence  year  \\\n",
       "0    0.4857 -24.28275     1       0.0381  110.838   0.0398  1947   \n",
       "1    0.1510 -10.04600     1       0.0437  152.066   0.8590  2020   \n",
       "2    0.4010  -8.00900     0       0.0474  108.004   0.7090  1950   \n",
       "3    0.2180 -15.91700     1       0.0368   83.636   0.9640  1974   \n",
       "4    0.3220 -12.34400     1       0.0488  117.260   0.7850  1973   \n",
       "\n",
       "   duration-min  popularity  release_month  dateofmonth  \n",
       "0           3.0           1              1            1  \n",
       "1           2.4           2             11          318  \n",
       "2           2.6           1              1            1  \n",
       "3           2.4           2              4          120  \n",
       "4           3.4           3              1            1  "
      ]
     },
     "execution_count": 14,
     "metadata": {},
     "output_type": "execute_result"
    }
   ],
   "source": [
    "id=train['id']\n",
    "train=train.drop(['Unnamed: 0','id','release_date'],axis=1)\n",
    "train.head()"
   ]
  },
  {
   "cell_type": "code",
   "execution_count": 15,
   "metadata": {
    "colab": {
     "base_uri": "https://localhost:8080/",
     "height": 637
    },
    "id": "r_wphzSNG-jQ",
    "outputId": "4a342ae5-a8e2-4a7f-e50e-0f0cda6a40a8"
   },
   "outputs": [
    {
     "data": {
      "image/png": "[encoded data removed]",
      "text/plain": [
       "<Figure size 1152x720 with 2 Axes>"
      ]
     },
     "metadata": {
      "needs_background": "light"
     },
     "output_type": "display_data"
    }
   ],
   "source": [
    "import seaborn as sns\n",
    "cor = train.corr()\n",
    "plt.figure(figsize=(16,10))\n",
    "sns.heatmap(cor)\n",
    "plt.show()"
   ]
  },
  {
   "cell_type": "code",
   "execution_count": 16,
   "metadata": {
    "id": "w3BPlTsHwIo5"
   },
   "outputs": [],
   "source": [
    "train_set,cross_val_set=train_test_split(train, test_size=0.3271)\n",
    "xtrain = train_set.drop(['popularity'], axis=1)\n",
    "ytrain = train_set['popularity'].values\n",
    "x_cv=cross_val_set.drop(['popularity'], axis=1)\n",
    "y_cv=cross_val_set['popularity'].values"
   ]
  },
  {
   "cell_type": "code",
   "execution_count": 17,
   "metadata": {
    "id": "4UNmbL_5yKwI"
   },
   "outputs": [],
   "source": [
    "font = {\n",
    "    'family': 'serif', \n",
    "    'serif': ['Computer Modern Roman'],\n",
    "    'weight' : 'regular',\n",
    "    'size'   : 14\n",
    "    }\n",
    "\n",
    "plt.rc('font', **font)"
   ]
  },
  {
   "cell_type": "code",
   "execution_count": 18,
   "metadata": {
    "id": "LK3S555YK596"
   },
   "outputs": [],
   "source": [
    "class Create_ensemble(object):\n",
    "    def __init__(self, n_splits, base_models):\n",
    "        self.n_splits = n_splits\n",
    "        self.base_models = base_models\n",
    "\n",
    "    def predict(self, X, y, T):\n",
    "        X = np.array(X)\n",
    "        y = np.array(y)\n",
    "        T = np.array(T)\n",
    "\n",
    "        folds = list(StratifiedKFold(n_splits=self.n_splits, shuffle=True, \n",
    "                                     random_state = random_state).split(X, y))\n",
    "\n",
    "        train_pred = np.zeros((X.shape[0], len(self.base_models)))\n",
    "        test_pred = np.zeros((T.shape[0], len(self.base_models)* self.n_splits))\n",
    "        f1_scores = np.zeros((len(self.base_models), self.n_splits))\n",
    "        recall_scores = np.zeros((len(self.base_models), self.n_splits))\n",
    "        \n",
    "        test_col = 0\n",
    "        for i, clf in enumerate(self.base_models):\n",
    "            \n",
    "            for j, (train_idx, valid_idx) in enumerate(folds):\n",
    "                \n",
    "                X_train = X[train_idx]\n",
    "                Y_train = y[train_idx]\n",
    "                X_valid = X[valid_idx]\n",
    "                Y_valid = y[valid_idx]\n",
    "                \n",
    "                clf.fit(X_train, Y_train)\n",
    "                \n",
    "                valid_pred = clf.predict(X_valid)\n",
    "                recall  = recall_score(Y_valid, valid_pred, average='macro')\n",
    "                f1 = f1_score(Y_valid, valid_pred, average='macro')\n",
    "                \n",
    "                recall_scores[i][j] = recall\n",
    "                f1_scores[i][j] = f1\n",
    "                \n",
    "                train_pred[valid_idx, i] = valid_pred\n",
    "                test_pred[:, test_col] = clf.predict(T)\n",
    "                test_col += 1\n",
    "                \n",
    "                print( \"Model- {} and CV- {} recall: {}, f1_score: {}\".format(i, j, recall, f1))\n",
    "            \n",
    "        return train_pred, test_pred, recall_scores, f1_scores"
   ]
  },
  {
   "cell_type": "markdown",
   "metadata": {},
   "source": [
    "### using GridSearch to find optimal paramenters  \n",
    "Random Hyperparameter Grid  \n",
    "We start with a base model"
   ]
  },
  {
   "cell_type": "code",
   "execution_count": null,
   "metadata": {
    "colab": {
     "base_uri": "https://localhost:8080/"
    },
    "id": "EES3eddzLOlH",
    "outputId": "2503a63c-1665-4609-b8cf-3c9e049562f6"
   },
   "outputs": [
    {
     "name": "stdout",
     "output_type": "stream",
     "text": [
      "Fitting 5 folds for each of 72 candidates, totalling 360 fits\n"
     ]
    },
    {
     "name": "stderr",
     "output_type": "stream",
     "text": [
      "[Parallel(n_jobs=-1)]: Using backend LokyBackend with 8 concurrent workers.\n",
      "[Parallel(n_jobs=-1)]: Done   9 tasks      | elapsed:   38.1s\n"
     ]
    }
   ],
   "source": [
    "from sklearn.ensemble import RandomForestClassifier\n",
    "from sklearn.model_selection import GridSearchCV\n",
    "from sklearn.metrics import make_scorer\n",
    "\n",
    "cv = StratifiedKFold(n_splits = 5, shuffle=True,random_state=2021)\n",
    "\n",
    "rdf = RandomForestClassifier(random_state = 2021) \n",
    "base_models = [rdf]\n",
    "\n",
    "\n",
    "n_splits = 5\n",
    "lgb_stack = Create_ensemble(n_splits = n_splits, base_models = base_models)        \n",
    "\n",
    "scoring = {'Recall': make_scorer(recall_score),\n",
    "           'f1_score': make_scorer(f1_score)\n",
    "          }\n",
    "\n",
    "params = {'max_depth': [8, 10,15, 20], \n",
    "              'min_samples_split': [5, 10, 15],\n",
    "              'min_samples_leaf' : [4, 8, 12],\n",
    "              'n_estimators' : [400,500]\n",
    "             }\n",
    "\n",
    "grid_clf = GridSearchCV(estimator = rdf, param_grid = params, cv = cv, n_jobs=-1, verbose=4)\n",
    "grid_clf.fit(xtrain, ytrain)"
   ]
  },
  {
   "cell_type": "markdown",
   "metadata": {},
   "source": [
    "### We can view the best parameters from fitting the random search:"
   ]
  },
  {
   "cell_type": "code",
   "execution_count": 205,
   "metadata": {
    "colab": {
     "base_uri": "https://localhost:8080/"
    },
    "id": "VFif3nfNZrwx",
    "outputId": "69471533-226c-4346-d01b-60d69d3245c1"
   },
   "outputs": [
    {
     "name": "stdout",
     "output_type": "stream",
     "text": [
      "RandomForestClassifier(max_depth=15, min_samples_leaf=4, min_samples_split=15,\n",
      "                       n_estimators=400, random_state=2021)\n",
      "{'max_depth': 15, 'min_samples_leaf': 4, 'min_samples_split': 15, 'n_estimators': 400}\n"
     ]
    }
   ],
   "source": [
    "print(grid_clf.best_estimator_)\n",
    "print(grid_clf.best_params_)"
   ]
  },
  {
   "cell_type": "code",
   "execution_count": 206,
   "metadata": {
    "id": "OoTi6GJ5QUtH"
   },
   "outputs": [],
   "source": [
    "rdf = RandomForestClassifier(bootstrap=True, ccp_alpha=0.0, class_weight=None,\n",
    "                       criterion='gini', max_depth=15, max_features='auto',\n",
    "                       max_leaf_nodes=None, max_samples=None,\n",
    "                       min_impurity_decrease=0.0, min_impurity_split=None,\n",
    "                       min_samples_leaf=4, min_samples_split=5,\n",
    "                       min_weight_fraction_leaf=0.0, n_estimators=400,\n",
    "                       n_jobs=None, oob_score=False, random_state=2021,\n",
    "                       verbose=0, warm_start=False)"
   ]
  },
  {
   "cell_type": "markdown",
   "metadata": {},
   "source": [
    "### prediction based on the best parameters"
   ]
  },
  {
   "cell_type": "code",
   "execution_count": 207,
   "metadata": {
    "colab": {
     "base_uri": "https://localhost:8080/"
    },
    "id": "LLfhUBpyQWN2",
    "outputId": "bf15f2a2-0c97-4660-9ae2-794ef8dff8c6"
   },
   "outputs": [
    {
     "name": "stdout",
     "output_type": "stream",
     "text": [
      "Model- 0 and CV- 0 recall: 0.5240721829360626, f1_score: 0.5347226313813022\n",
      "Model- 0 and CV- 1 recall: 0.5244672971735646, f1_score: 0.5336631963049703\n",
      "Model- 0 and CV- 2 recall: 0.5236306399824022, f1_score: 0.5307329504268068\n",
      "Model- 0 and CV- 3 recall: 0.5178623019367999, f1_score: 0.5241304418904279\n",
      "Model- 0 and CV- 4 recall: 0.5086620661543664, f1_score: 0.5155139430317712\n"
     ]
    }
   ],
   "source": [
    "train_pred, test_pred, recall_scores, f1_scores = lgb_stack.predict(xtrain, ytrain, x_cv)"
   ]
  },
  {
   "cell_type": "code",
   "execution_count": 208,
   "metadata": {},
   "outputs": [
    {
     "name": "stdout",
     "output_type": "stream",
     "text": [
      "[[2. 2. 3. 3. 2.]\n",
      " [4. 4. 4. 4. 4.]\n",
      " [4. 4. 4. 4. 4.]\n",
      " ...\n",
      " [2. 2. 2. 2. 2.]\n",
      " [3. 3. 2. 3. 2.]\n",
      " [1. 1. 1. 1. 1.]]\n"
     ]
    }
   ],
   "source": [
    "print(test_pred)"
   ]
  },
  {
   "cell_type": "code",
   "execution_count": 209,
   "metadata": {
    "colab": {
     "base_uri": "https://localhost:8080/"
    },
    "id": "42eW8NAWaCCU",
    "outputId": "f6e076bb-5767-46ae-9fb3-a71b3414885e"
   },
   "outputs": [
    {
     "name": "stdout",
     "output_type": "stream",
     "text": [
      "1. The F-1 score of the model 0.5284551048939975\n",
      "\n",
      "2. The recall score of the model 0.5197530727603491\n",
      "\n",
      "3. Classification report \n",
      "               precision    recall  f1-score   support\n",
      "\n",
      "           1       0.83      0.81      0.82      2180\n",
      "           2       0.55      0.70      0.62      2074\n",
      "           3       0.47      0.41      0.43      1941\n",
      "           4       0.58      0.57      0.58      1783\n",
      "           5       0.62      0.12      0.20       249\n",
      "\n",
      "    accuracy                           0.61      8227\n",
      "   macro avg       0.61      0.52      0.53      8227\n",
      "weighted avg       0.61      0.61      0.61      8227\n",
      " \n",
      "\n",
      "4. Confusion matrix \n",
      " [[1756  174   72  176    2]\n",
      " [ 201 1446  400   26    1]\n",
      " [  67  732  791  351    0]\n",
      " [  73  252  423 1020   15]\n",
      " [  15   10   12  183   29]] \n",
      "\n"
     ]
    }
   ],
   "source": [
    "print('1. The F-1 score of the model {}\\n'.format(f1_score(ytrain, train_pred, average='macro')))\n",
    "print('2. The recall score of the model {}\\n'.format(recall_score(ytrain, train_pred, average='macro')))\n",
    "print('3. Classification report \\n {} \\n'.format(classification_report(ytrain, train_pred)))\n",
    "print('4. Confusion matrix \\n {} \\n'.format(confusion_matrix(ytrain, train_pred)))"
   ]
  },
  {
   "cell_type": "code",
   "execution_count": 210,
   "metadata": {
    "id": "TObgV7jja_W8"
   },
   "outputs": [],
   "source": [
    "tpred = pd.DataFrame(test_pred)\n",
    "final_tpred = tpred.mode(axis=1)"
   ]
  },
  {
   "cell_type": "markdown",
   "metadata": {
    "id": "vorLZUB38UT7"
   },
   "source": [
    "### Accuracy after part A"
   ]
  },
  {
   "cell_type": "code",
   "execution_count": 211,
   "metadata": {
    "colab": {
     "base_uri": "https://localhost:8080/"
    },
    "id": "K2Iy-JDEbQ4z",
    "outputId": "fc670e55-0568-408f-cdf3-9bb1b1668418"
   },
   "outputs": [
    {
     "name": "stdout",
     "output_type": "stream",
     "text": [
      "accuracy on cross validation set 0.62325\n"
     ]
    }
   ],
   "source": [
    "print('accuracy on cross validation set',sum(final_tpred[0]==y_cv)/final_tpred.shape[0])\n"
   ]
  },
  {
   "cell_type": "code",
   "execution_count": 212,
   "metadata": {
    "id": "OqaH40QjbTKt"
   },
   "outputs": [],
   "source": [
    "final_tpred.to_csv('predicted_labels_1.csv', index=False, header= False)"
   ]
  },
  {
   "cell_type": "code",
   "execution_count": 213,
   "metadata": {
    "id": "0799aW5ybcNX"
   },
   "outputs": [],
   "source": [
    "class Create_ensemble(object):\n",
    "    def __init__(self, n_splits, base_models):\n",
    "        self.n_splits = n_splits\n",
    "        self.base_models = base_models\n",
    "\n",
    "    def predict(self, X, y, T):\n",
    "        X = np.array(X)\n",
    "        y = np.array(y)\n",
    "        T = np.array(T)\n",
    "        no_class = len(np.unique(y))\n",
    "\n",
    "        folds = list(StratifiedKFold(n_splits=self.n_splits, shuffle=True, \n",
    "                                     random_state = random_state).split(X, y))\n",
    "\n",
    "        train_proba = np.zeros((X.shape[0], no_class))\n",
    "        test_proba = np.zeros((T.shape[0], no_class))\n",
    "        \n",
    "        train_pred = np.zeros((X.shape[0], len(self.base_models)))\n",
    "        test_pred = np.zeros((T.shape[0], len(self.base_models)* self.n_splits))\n",
    "        f1_scores = np.zeros((len(self.base_models), self.n_splits))\n",
    "        recall_scores = np.zeros((len(self.base_models), self.n_splits))\n",
    "        \n",
    "        test_col = 0\n",
    "        for i, clf in enumerate(self.base_models):\n",
    "            \n",
    "            for j, (train_idx, valid_idx) in enumerate(folds):\n",
    "                \n",
    "                X_train = X[train_idx]\n",
    "                Y_train = y[train_idx]\n",
    "                X_valid = X[valid_idx]\n",
    "                Y_valid = y[valid_idx]\n",
    "                \n",
    "                clf.fit(X_train, Y_train)\n",
    "                \n",
    "                valid_pred = clf.predict(X_valid)\n",
    "                recall  = recall_score(Y_valid, valid_pred, average='macro')\n",
    "                f1 = f1_score(Y_valid, valid_pred, average='macro')\n",
    "                \n",
    "                recall_scores[i][j] = recall\n",
    "                f1_scores[i][j] = f1\n",
    "                \n",
    "                train_pred[valid_idx, i] = valid_pred\n",
    "                test_pred[:, test_col] = clf.predict(T)\n",
    "                test_col += 1\n",
    "                \n",
    "                ## Probabilities\n",
    "                valid_proba = clf.predict_proba(X_valid)\n",
    "                train_proba[valid_idx, :] = valid_proba\n",
    "                test_proba  += clf.predict_proba(T)\n",
    "                \n",
    "                print( \"Model- {} and CV- {} recall: {}, f1_score: {}\".format(i, j, recall, f1))\n",
    "                \n",
    "            test_proba /= self.n_splits\n",
    "            \n",
    "        return train_proba, test_proba, train_pred, test_pred"
   ]
  },
  {
   "cell_type": "code",
   "execution_count": 214,
   "metadata": {
    "id": "shOBFw1Zb10N"
   },
   "outputs": [],
   "source": [
    "from sklearn.ensemble import RandomForestClassifier\n",
    "class_weight = {1:1, 2:1.1, 3:1.1, 4:1.2, 5:4}\n",
    "\n",
    "rdf = RandomForestClassifier(bootstrap=True, ccp_alpha=0.0, class_weight=class_weight,\n",
    "                       criterion='gini', max_depth=20, max_features='auto',\n",
    "                       max_leaf_nodes=None, max_samples=None,\n",
    "                       min_impurity_decrease=0.0, min_impurity_split=None,\n",
    "                       min_samples_leaf=4, min_samples_split=15,\n",
    "                       min_weight_fraction_leaf=0.0, n_estimators=300,\n",
    "                       n_jobs=None, oob_score=False, random_state=2021,\n",
    "                       verbose=0, warm_start=False)"
   ]
  },
  {
   "cell_type": "code",
   "execution_count": 215,
   "metadata": {
    "id": "y8emKpxtc2no"
   },
   "outputs": [],
   "source": [
    "base_models = [rdf]\n",
    "n_splits = 5\n",
    "lgb_stack = Create_ensemble(n_splits = n_splits, base_models = base_models)        \n",
    "\n",
    "xtrain = train.drop(['popularity'], axis=1)\n",
    "ytrain = train['popularity'].values\n",
    "# ytrain = label_binarize(Y, classes=[0, 1, 2])"
   ]
  },
  {
   "cell_type": "code",
   "execution_count": 216,
   "metadata": {
    "colab": {
     "base_uri": "https://localhost:8080/"
    },
    "id": "FDzbfm7idkut",
    "outputId": "a95bdc78-3d74-45cb-aa94-0b7d5cc88c16"
   },
   "outputs": [
    {
     "name": "stdout",
     "output_type": "stream",
     "text": [
      "Model- 0 and CV- 0 recall: 0.554682992575551, f1_score: 0.5657969007377155\n",
      "Model- 0 and CV- 1 recall: 0.5751321713662696, f1_score: 0.5837535690673729\n",
      "Model- 0 and CV- 2 recall: 0.575853144474825, f1_score: 0.5865239896876114\n",
      "Model- 0 and CV- 3 recall: 0.5543424737419387, f1_score: 0.5627558234815263\n",
      "Model- 0 and CV- 4 recall: 0.538388000904616, f1_score: 0.55349991239363\n"
     ]
    }
   ],
   "source": [
    "train_proba, test_proba, train_pred, test_pred = lgb_stack.predict(xtrain, ytrain, x_cv)"
   ]
  },
  {
   "cell_type": "code",
   "execution_count": 217,
   "metadata": {
    "colab": {
     "base_uri": "https://localhost:8080/"
    },
    "id": "CB-yHGIbdwsi",
    "outputId": "e4feb7aa-d7a8-4de0-fe9d-16dff160ff43"
   },
   "outputs": [
    {
     "name": "stdout",
     "output_type": "stream",
     "text": [
      "1. The F-1 score of the model 0.5710363960786697\n",
      "\n",
      "2. The recall score of the model 0.5596431856549133\n",
      "\n",
      "3. Classification report \n",
      "               precision    recall  f1-score   support\n",
      "\n",
      "           1       0.85      0.77      0.81      3222\n",
      "           2       0.55      0.72      0.63      3118\n",
      "           3       0.50      0.43      0.46      2912\n",
      "           4       0.60      0.59      0.59      2606\n",
      "           5       0.49      0.30      0.37       369\n",
      "\n",
      "    accuracy                           0.62     12227\n",
      "   macro avg       0.60      0.56      0.57     12227\n",
      "weighted avg       0.63      0.62      0.62     12227\n",
      " \n",
      "\n",
      "4. Confusion matrix \n",
      " [[2479  314  107  297   25]\n",
      " [ 297 2238  548   30    5]\n",
      " [  73 1107 1239  493    0]\n",
      " [  56  371  557 1538   84]\n",
      " [   6   13   16  225  109]] \n",
      "\n"
     ]
    }
   ],
   "source": [
    "print('1. The F-1 score of the model {}\\n'.format(f1_score(ytrain, train_pred, average='macro')))\n",
    "print('2. The recall score of the model {}\\n'.format(recall_score(ytrain, train_pred, average='macro')))\n",
    "print('3. Classification report \\n {} \\n'.format(classification_report(ytrain, train_pred)))\n",
    "print('4. Confusion matrix \\n {} \\n'.format(confusion_matrix(ytrain, train_pred)))"
   ]
  },
  {
   "cell_type": "code",
   "execution_count": 218,
   "metadata": {
    "id": "JMTWEU9c9AWi"
   },
   "outputs": [],
   "source": [
    "tpred = pd.DataFrame(test_pred)\n",
    "final_tpred = tpred.mode(axis=1)"
   ]
  },
  {
   "cell_type": "markdown",
   "metadata": {
    "id": "vuZ-PfW5-bzL"
   },
   "source": [
    "## Accuracy after part B"
   ]
  },
  {
   "cell_type": "code",
   "execution_count": 219,
   "metadata": {
    "colab": {
     "base_uri": "https://localhost:8080/"
    },
    "id": "D76unvaU9fyE",
    "outputId": "ba3cf2b6-a92a-4955-c708-70ffb61ba1b5"
   },
   "outputs": [
    {
     "name": "stdout",
     "output_type": "stream",
     "text": [
      "accuracy on cross validation set 0.8505\n"
     ]
    }
   ],
   "source": [
    "print('accuracy on cross validation set',sum(final_tpred[0]==y_cv)/final_tpred.shape[0])"
   ]
  },
  {
   "cell_type": "code",
   "execution_count": 221,
   "metadata": {},
   "outputs": [
    {
     "name": "stdout",
     "output_type": "stream",
     "text": [
      "[1042. 1044.  971.  823.  120.]\n",
      "[891. 943. 792. 667. 109.]\n"
     ]
    }
   ],
   "source": [
    "class_=np.zeros(5)\n",
    "class_pred_=class_.copy()\n",
    "i=0\n",
    "while i<y_cv.shape[0]:\n",
    "    if(y_cv[i]==final_tpred.values[i][0]):\n",
    "        class_pred_[int(final_tpred.values[i][0])-1]+=1\n",
    "    class_[y_cv[i]-1]+=1\n",
    "    i=i+1\n",
    "print(class_)\n",
    "print(class_pred_)"
   ]
  },
  {
   "cell_type": "code",
   "execution_count": 225,
   "metadata": {},
   "outputs": [
    {
     "name": "stdout",
     "output_type": "stream",
     "text": [
      "9234.0 17604\n"
     ]
    }
   ],
   "source": [
    "final_tpred[0].values\n",
    "i=0\n",
    "bid=0\n",
    "revenue=0\n",
    "while i<len(y_cv):\n",
    "    if(y_cv[i]<=final_tpred[0].values[i]):\n",
    "        bid+=final_tpred[0].values[i]\n",
    "        revenue+=y_cv[i]*2\n",
    "    i=i+1\n",
    "print(bid,revenue)"
   ]
  },
  {
   "cell_type": "code",
   "execution_count": 226,
   "metadata": {},
   "outputs": [
    {
     "name": "stdout",
     "output_type": "stream",
     "text": [
      "4000\n"
     ]
    }
   ],
   "source": [
    "print(len(y_cv))"
   ]
  },
  {
   "cell_type": "code",
   "execution_count": 32,
   "metadata": {
    "id": "n6y697nS-mfI"
   },
   "outputs": [],
   "source": [
    "final_tpred.to_csv('predicted_labels_2.csv', index=False, header= False)"
   ]
  },
  {
   "cell_type": "markdown",
   "metadata": {
    "id": "CXf42buq_P8q"
   },
   "source": [
    "# Part C(not complete)"
   ]
  },
  {
   "cell_type": "code",
   "execution_count": 138,
   "metadata": {
    "colab": {
     "base_uri": "https://localhost:8080/",
     "height": 304
    },
    "id": "oSqrGE1heCd3",
    "outputId": "ae8f87ce-4b45-48c9-fe4a-a3e754739bef"
   },
   "outputs": [
    {
     "data": {
      "image/png": "[encoded data removed]",
      "text/plain": [
       "<Figure size 1728x576 with 5 Axes>"
      ]
     },
     "metadata": {
      "needs_background": "light"
     },
     "output_type": "display_data"
    }
   ],
   "source": [
    "# histogram of predicted probabilities\n",
    "plt.figure(figsize=(24, 8))\n",
    "nclasses = 5\n",
    "for i in range(nclasses):\n",
    "    \n",
    "    plt.subplot(1, 5, i+1)\n",
    "    plt.hist(train_proba[:, i], bins=10, histtype='bar', rwidth=0.95)\n",
    "    plt.xlim(0,1)\n",
    "    plt.title('Predicted class-{} probabilities'.format(i+1))\n",
    "    plt.xlabel('Probability')\n",
    "    plt.ylabel('Frequency')\n",
    "plt.tight_layout()\n",
    "plt.show()"
   ]
  },
  {
   "cell_type": "code",
   "execution_count": 109,
   "metadata": {},
   "outputs": [
    {
     "data": {
      "text/html": [
       "<div>\n",
       "<style scoped>\n",
       "    .dataframe tbody tr th:only-of-type {\n",
       "        vertical-align: middle;\n",
       "    }\n",
       "\n",
       "    .dataframe tbody tr th {\n",
       "        vertical-align: top;\n",
       "    }\n",
       "\n",
       "    .dataframe thead th {\n",
       "        text-align: right;\n",
       "    }\n",
       "</style>\n",
       "<table border=\"1\" class=\"dataframe\">\n",
       "  <thead>\n",
       "    <tr style=\"text-align: right;\">\n",
       "      <th></th>\n",
       "      <th>id</th>\n",
       "      <th>acousticness</th>\n",
       "      <th>danceability</th>\n",
       "      <th>energy</th>\n",
       "      <th>explicit</th>\n",
       "      <th>instrumentalness</th>\n",
       "      <th>key</th>\n",
       "      <th>liveness</th>\n",
       "      <th>loudness</th>\n",
       "      <th>mode</th>\n",
       "      <th>release_date</th>\n",
       "      <th>speechiness</th>\n",
       "      <th>tempo</th>\n",
       "      <th>valence</th>\n",
       "      <th>year</th>\n",
       "      <th>duration-min</th>\n",
       "    </tr>\n",
       "  </thead>\n",
       "  <tbody>\n",
       "    <tr>\n",
       "      <th>0</th>\n",
       "      <td>4943</td>\n",
       "      <td>0.03360</td>\n",
       "      <td>0.523</td>\n",
       "      <td>0.861</td>\n",
       "      <td>No</td>\n",
       "      <td>0.000000</td>\n",
       "      <td>0</td>\n",
       "      <td>0.1440</td>\n",
       "      <td>-3.447</td>\n",
       "      <td>Major</td>\n",
       "      <td>01-01-2014</td>\n",
       "      <td>0.0644</td>\n",
       "      <td>127.049</td>\n",
       "      <td>0.346</td>\n",
       "      <td>2014</td>\n",
       "      <td>3.8</td>\n",
       "    </tr>\n",
       "    <tr>\n",
       "      <th>1</th>\n",
       "      <td>16165</td>\n",
       "      <td>0.76500</td>\n",
       "      <td>0.687</td>\n",
       "      <td>0.453</td>\n",
       "      <td>No</td>\n",
       "      <td>0.000008</td>\n",
       "      <td>7</td>\n",
       "      <td>0.0897</td>\n",
       "      <td>-11.649</td>\n",
       "      <td>Major</td>\n",
       "      <td>01-04-1972</td>\n",
       "      <td>0.0335</td>\n",
       "      <td>129.987</td>\n",
       "      <td>0.830</td>\n",
       "      <td>1972</td>\n",
       "      <td>3.8</td>\n",
       "    </tr>\n",
       "    <tr>\n",
       "      <th>2</th>\n",
       "      <td>6774</td>\n",
       "      <td>0.36300</td>\n",
       "      <td>0.536</td>\n",
       "      <td>0.640</td>\n",
       "      <td>No</td>\n",
       "      <td>0.000000</td>\n",
       "      <td>0</td>\n",
       "      <td>0.0948</td>\n",
       "      <td>-5.862</td>\n",
       "      <td>Major</td>\n",
       "      <td>02-06-1998</td>\n",
       "      <td>0.0368</td>\n",
       "      <td>142.483</td>\n",
       "      <td>0.289</td>\n",
       "      <td>1998</td>\n",
       "      <td>4.4</td>\n",
       "    </tr>\n",
       "    <tr>\n",
       "      <th>3</th>\n",
       "      <td>9959</td>\n",
       "      <td>0.00463</td>\n",
       "      <td>0.890</td>\n",
       "      <td>0.617</td>\n",
       "      <td>No</td>\n",
       "      <td>0.003850</td>\n",
       "      <td>2</td>\n",
       "      <td>0.0291</td>\n",
       "      <td>-12.096</td>\n",
       "      <td>Minor</td>\n",
       "      <td>08-09-1980</td>\n",
       "      <td>0.0418</td>\n",
       "      <td>121.126</td>\n",
       "      <td>0.970</td>\n",
       "      <td>1980</td>\n",
       "      <td>3.9</td>\n",
       "    </tr>\n",
       "    <tr>\n",
       "      <th>4</th>\n",
       "      <td>13818</td>\n",
       "      <td>0.00187</td>\n",
       "      <td>0.555</td>\n",
       "      <td>0.943</td>\n",
       "      <td>No</td>\n",
       "      <td>0.000042</td>\n",
       "      <td>2</td>\n",
       "      <td>0.1510</td>\n",
       "      <td>-2.492</td>\n",
       "      <td>Major</td>\n",
       "      <td>17-04-2007</td>\n",
       "      <td>0.0891</td>\n",
       "      <td>165.026</td>\n",
       "      <td>0.882</td>\n",
       "      <td>2007</td>\n",
       "      <td>3.2</td>\n",
       "    </tr>\n",
       "  </tbody>\n",
       "</table>\n",
       "</div>"
      ],
      "text/plain": [
       "      id  acousticness  danceability  energy explicit  instrumentalness  key  \\\n",
       "0   4943       0.03360         0.523   0.861       No          0.000000    0   \n",
       "1  16165       0.76500         0.687   0.453       No          0.000008    7   \n",
       "2   6774       0.36300         0.536   0.640       No          0.000000    0   \n",
       "3   9959       0.00463         0.890   0.617       No          0.003850    2   \n",
       "4  13818       0.00187         0.555   0.943       No          0.000042    2   \n",
       "\n",
       "   liveness  loudness   mode release_date  speechiness    tempo  valence  \\\n",
       "0    0.1440    -3.447  Major   01-01-2014       0.0644  127.049    0.346   \n",
       "1    0.0897   -11.649  Major   01-04-1972       0.0335  129.987    0.830   \n",
       "2    0.0948    -5.862  Major   02-06-1998       0.0368  142.483    0.289   \n",
       "3    0.0291   -12.096  Minor   08-09-1980       0.0418  121.126    0.970   \n",
       "4    0.1510    -2.492  Major   17-04-2007       0.0891  165.026    0.882   \n",
       "\n",
       "   year  duration-min  \n",
       "0  2014           3.8  \n",
       "1  1972           3.8  \n",
       "2  1998           4.4  \n",
       "3  1980           3.9  \n",
       "4  2007           3.2  "
      ]
     },
     "execution_count": 109,
     "metadata": {},
     "output_type": "execute_result"
    }
   ],
   "source": [
    "df_test=pd.read_csv('D:\\Projects\\Data_Science\\DA open Hall 2021\\dataset\\Test_data.csv')\n",
    "df_test.head()"
   ]
  },
  {
   "cell_type": "code",
   "execution_count": 65,
   "metadata": {},
   "outputs": [
    {
     "data": {
      "text/html": [
       "<div>\n",
       "<style scoped>\n",
       "    .dataframe tbody tr th:only-of-type {\n",
       "        vertical-align: middle;\n",
       "    }\n",
       "\n",
       "    .dataframe tbody tr th {\n",
       "        vertical-align: top;\n",
       "    }\n",
       "\n",
       "    .dataframe thead th {\n",
       "        text-align: right;\n",
       "    }\n",
       "</style>\n",
       "<table border=\"1\" class=\"dataframe\">\n",
       "  <thead>\n",
       "    <tr style=\"text-align: right;\">\n",
       "      <th></th>\n",
       "      <th>acousticness</th>\n",
       "      <th>danceability</th>\n",
       "      <th>energy</th>\n",
       "      <th>explicit</th>\n",
       "      <th>instrumentalness</th>\n",
       "      <th>key</th>\n",
       "      <th>liveness</th>\n",
       "      <th>loudness</th>\n",
       "      <th>mode</th>\n",
       "      <th>speechiness</th>\n",
       "      <th>tempo</th>\n",
       "      <th>valence</th>\n",
       "      <th>year</th>\n",
       "      <th>duration-min</th>\n",
       "    </tr>\n",
       "  </thead>\n",
       "  <tbody>\n",
       "    <tr>\n",
       "      <th>0</th>\n",
       "      <td>0.03360</td>\n",
       "      <td>0.523</td>\n",
       "      <td>0.861</td>\n",
       "      <td>0</td>\n",
       "      <td>0.000000</td>\n",
       "      <td>0</td>\n",
       "      <td>0.1440</td>\n",
       "      <td>-3.447</td>\n",
       "      <td>1</td>\n",
       "      <td>0.0644</td>\n",
       "      <td>127.049</td>\n",
       "      <td>0.346</td>\n",
       "      <td>2014</td>\n",
       "      <td>3.8</td>\n",
       "    </tr>\n",
       "    <tr>\n",
       "      <th>1</th>\n",
       "      <td>0.76500</td>\n",
       "      <td>0.687</td>\n",
       "      <td>0.453</td>\n",
       "      <td>0</td>\n",
       "      <td>0.000008</td>\n",
       "      <td>7</td>\n",
       "      <td>0.0897</td>\n",
       "      <td>-11.649</td>\n",
       "      <td>1</td>\n",
       "      <td>0.0335</td>\n",
       "      <td>129.987</td>\n",
       "      <td>0.830</td>\n",
       "      <td>1972</td>\n",
       "      <td>3.8</td>\n",
       "    </tr>\n",
       "    <tr>\n",
       "      <th>2</th>\n",
       "      <td>0.36300</td>\n",
       "      <td>0.536</td>\n",
       "      <td>0.640</td>\n",
       "      <td>0</td>\n",
       "      <td>0.000000</td>\n",
       "      <td>0</td>\n",
       "      <td>0.0948</td>\n",
       "      <td>-5.862</td>\n",
       "      <td>1</td>\n",
       "      <td>0.0368</td>\n",
       "      <td>142.483</td>\n",
       "      <td>0.289</td>\n",
       "      <td>1998</td>\n",
       "      <td>4.4</td>\n",
       "    </tr>\n",
       "    <tr>\n",
       "      <th>3</th>\n",
       "      <td>0.00463</td>\n",
       "      <td>0.890</td>\n",
       "      <td>0.617</td>\n",
       "      <td>0</td>\n",
       "      <td>0.003850</td>\n",
       "      <td>2</td>\n",
       "      <td>0.0291</td>\n",
       "      <td>-12.096</td>\n",
       "      <td>0</td>\n",
       "      <td>0.0418</td>\n",
       "      <td>121.126</td>\n",
       "      <td>0.970</td>\n",
       "      <td>1980</td>\n",
       "      <td>3.9</td>\n",
       "    </tr>\n",
       "    <tr>\n",
       "      <th>4</th>\n",
       "      <td>0.00187</td>\n",
       "      <td>0.555</td>\n",
       "      <td>0.943</td>\n",
       "      <td>0</td>\n",
       "      <td>0.000042</td>\n",
       "      <td>2</td>\n",
       "      <td>0.1510</td>\n",
       "      <td>-2.492</td>\n",
       "      <td>1</td>\n",
       "      <td>0.0891</td>\n",
       "      <td>165.026</td>\n",
       "      <td>0.882</td>\n",
       "      <td>2007</td>\n",
       "      <td>3.2</td>\n",
       "    </tr>\n",
       "    <tr>\n",
       "      <th>...</th>\n",
       "      <td>...</td>\n",
       "      <td>...</td>\n",
       "      <td>...</td>\n",
       "      <td>...</td>\n",
       "      <td>...</td>\n",
       "      <td>...</td>\n",
       "      <td>...</td>\n",
       "      <td>...</td>\n",
       "      <td>...</td>\n",
       "      <td>...</td>\n",
       "      <td>...</td>\n",
       "      <td>...</td>\n",
       "      <td>...</td>\n",
       "      <td>...</td>\n",
       "    </tr>\n",
       "    <tr>\n",
       "      <th>3995</th>\n",
       "      <td>0.00019</td>\n",
       "      <td>0.272</td>\n",
       "      <td>0.907</td>\n",
       "      <td>0</td>\n",
       "      <td>0.039300</td>\n",
       "      <td>4</td>\n",
       "      <td>0.1860</td>\n",
       "      <td>-4.592</td>\n",
       "      <td>0</td>\n",
       "      <td>0.0707</td>\n",
       "      <td>177.225</td>\n",
       "      <td>0.564</td>\n",
       "      <td>1981</td>\n",
       "      <td>3.5</td>\n",
       "    </tr>\n",
       "    <tr>\n",
       "      <th>3996</th>\n",
       "      <td>0.10600</td>\n",
       "      <td>0.444</td>\n",
       "      <td>0.819</td>\n",
       "      <td>0</td>\n",
       "      <td>0.000000</td>\n",
       "      <td>10</td>\n",
       "      <td>0.1070</td>\n",
       "      <td>-4.078</td>\n",
       "      <td>0</td>\n",
       "      <td>0.3410</td>\n",
       "      <td>82.695</td>\n",
       "      <td>0.747</td>\n",
       "      <td>2017</td>\n",
       "      <td>3.1</td>\n",
       "    </tr>\n",
       "    <tr>\n",
       "      <th>3997</th>\n",
       "      <td>0.64900</td>\n",
       "      <td>0.556</td>\n",
       "      <td>0.393</td>\n",
       "      <td>0</td>\n",
       "      <td>0.000000</td>\n",
       "      <td>0</td>\n",
       "      <td>0.2920</td>\n",
       "      <td>-10.427</td>\n",
       "      <td>1</td>\n",
       "      <td>0.0319</td>\n",
       "      <td>98.226</td>\n",
       "      <td>0.604</td>\n",
       "      <td>1994</td>\n",
       "      <td>3.3</td>\n",
       "    </tr>\n",
       "    <tr>\n",
       "      <th>3998</th>\n",
       "      <td>0.99500</td>\n",
       "      <td>0.378</td>\n",
       "      <td>0.064</td>\n",
       "      <td>0</td>\n",
       "      <td>0.929000</td>\n",
       "      <td>7</td>\n",
       "      <td>0.1350</td>\n",
       "      <td>-19.040</td>\n",
       "      <td>0</td>\n",
       "      <td>0.0414</td>\n",
       "      <td>98.456</td>\n",
       "      <td>0.158</td>\n",
       "      <td>1946</td>\n",
       "      <td>2.6</td>\n",
       "    </tr>\n",
       "    <tr>\n",
       "      <th>3999</th>\n",
       "      <td>0.02620</td>\n",
       "      <td>0.534</td>\n",
       "      <td>0.583</td>\n",
       "      <td>1</td>\n",
       "      <td>0.000000</td>\n",
       "      <td>2</td>\n",
       "      <td>0.4210</td>\n",
       "      <td>-8.672</td>\n",
       "      <td>1</td>\n",
       "      <td>0.0288</td>\n",
       "      <td>105.997</td>\n",
       "      <td>0.145</td>\n",
       "      <td>2017</td>\n",
       "      <td>3.9</td>\n",
       "    </tr>\n",
       "  </tbody>\n",
       "</table>\n",
       "<p>4000 rows × 14 columns</p>\n",
       "</div>"
      ],
      "text/plain": [
       "      acousticness  danceability  energy  explicit  instrumentalness  key  \\\n",
       "0          0.03360         0.523   0.861         0          0.000000    0   \n",
       "1          0.76500         0.687   0.453         0          0.000008    7   \n",
       "2          0.36300         0.536   0.640         0          0.000000    0   \n",
       "3          0.00463         0.890   0.617         0          0.003850    2   \n",
       "4          0.00187         0.555   0.943         0          0.000042    2   \n",
       "...            ...           ...     ...       ...               ...  ...   \n",
       "3995       0.00019         0.272   0.907         0          0.039300    4   \n",
       "3996       0.10600         0.444   0.819         0          0.000000   10   \n",
       "3997       0.64900         0.556   0.393         0          0.000000    0   \n",
       "3998       0.99500         0.378   0.064         0          0.929000    7   \n",
       "3999       0.02620         0.534   0.583         1          0.000000    2   \n",
       "\n",
       "      liveness  loudness  mode  speechiness    tempo  valence  year  \\\n",
       "0       0.1440    -3.447     1       0.0644  127.049    0.346  2014   \n",
       "1       0.0897   -11.649     1       0.0335  129.987    0.830  1972   \n",
       "2       0.0948    -5.862     1       0.0368  142.483    0.289  1998   \n",
       "3       0.0291   -12.096     0       0.0418  121.126    0.970  1980   \n",
       "4       0.1510    -2.492     1       0.0891  165.026    0.882  2007   \n",
       "...        ...       ...   ...          ...      ...      ...   ...   \n",
       "3995    0.1860    -4.592     0       0.0707  177.225    0.564  1981   \n",
       "3996    0.1070    -4.078     0       0.3410   82.695    0.747  2017   \n",
       "3997    0.2920   -10.427     1       0.0319   98.226    0.604  1994   \n",
       "3998    0.1350   -19.040     0       0.0414   98.456    0.158  1946   \n",
       "3999    0.4210    -8.672     1       0.0288  105.997    0.145  2017   \n",
       "\n",
       "      duration-min  \n",
       "0              3.8  \n",
       "1              3.8  \n",
       "2              4.4  \n",
       "3              3.9  \n",
       "4              3.2  \n",
       "...            ...  \n",
       "3995           3.5  \n",
       "3996           3.1  \n",
       "3997           3.3  \n",
       "3998           2.6  \n",
       "3999           3.9  \n",
       "\n",
       "[4000 rows x 14 columns]"
      ]
     },
     "execution_count": 65,
     "metadata": {},
     "output_type": "execute_result"
    }
   ],
   "source": [
    "# df_test.drop(['id','release_date'],axis=1,inplace=True)\n",
    "dict={'mode':{'Major':1,'Minor':0},'explicit':{'Yes':1,'No':0}}\n",
    "df_test.replace(dict,inplace=True)\n",
    "df_test"
   ]
  },
  {
   "cell_type": "code",
   "execution_count": 94,
   "metadata": {},
   "outputs": [
    {
     "name": "stdout",
     "output_type": "stream",
     "text": [
      "Model- 0 and CV- 0 recall: 0.554682992575551, f1_score: 0.5657969007377155\n",
      "Model- 0 and CV- 1 recall: 0.5751321713662696, f1_score: 0.5837535690673729\n",
      "Model- 0 and CV- 2 recall: 0.575853144474825, f1_score: 0.5865239896876114\n",
      "Model- 0 and CV- 3 recall: 0.5543424737419387, f1_score: 0.5627558234815263\n",
      "Model- 0 and CV- 4 recall: 0.538388000904616, f1_score: 0.55349991239363\n"
     ]
    }
   ],
   "source": [
    "train_proba, test_proba, train_pred, test_pred = lgb_stack.predict(xtrain, ytrain, df_test)"
   ]
  },
  {
   "cell_type": "code",
   "execution_count": 95,
   "metadata": {},
   "outputs": [],
   "source": [
    "tpred = pd.DataFrame(test_pred)\n",
    "final_tpred = tpred.mode(axis=1)"
   ]
  },
  {
   "cell_type": "code",
   "execution_count": 96,
   "metadata": {},
   "outputs": [
    {
     "data": {
      "text/plain": [
       "array([ 965., 1335.,  768.,  836.,   96.])"
      ]
     },
     "execution_count": 96,
     "metadata": {},
     "output_type": "execute_result"
    }
   ],
   "source": [
    "# class_=np.zeros(5)\n",
    "# class_pred_=class_.copy()\n",
    "# i=0\n",
    "# while i<y_cv.shape[0]:\n",
    "#     if(y_cv[i]==final_tpred.values[i][0]):\n",
    "#         class_pred_[int(final_tpred.values[i][0])-1]+=1\n",
    "#     class_[y_cv[i]-1]+=1\n",
    "#     i=i+1\n",
    "# print(class_)\n",
    "# print(class_pred_)\n",
    "class_=np.zeros(5)\n",
    "for i in range(final_tpred.values.shape[0]):\n",
    "    class_[int(final_tpred.values[i][0]-1)]+=1\n",
    "    i+=1\n",
    "class_"
   ]
  },
  {
   "cell_type": "code",
   "execution_count": 84,
   "metadata": {},
   "outputs": [
    {
     "name": "stdout",
     "output_type": "stream",
     "text": [
      "9763.0\n"
     ]
    }
   ],
   "source": [
    "bid=0\n",
    "i=0\n",
    "while(i<5):\n",
    "    bid+=class_[i]*(i+1)\n",
    "    i=i+1\n",
    "print(bid)"
   ]
  },
  {
   "cell_type": "code",
   "execution_count": 97,
   "metadata": {},
   "outputs": [
    {
     "data": {
      "text/html": [
       "<div>\n",
       "<style scoped>\n",
       "    .dataframe tbody tr th:only-of-type {\n",
       "        vertical-align: middle;\n",
       "    }\n",
       "\n",
       "    .dataframe tbody tr th {\n",
       "        vertical-align: top;\n",
       "    }\n",
       "\n",
       "    .dataframe thead th {\n",
       "        text-align: right;\n",
       "    }\n",
       "</style>\n",
       "<table border=\"1\" class=\"dataframe\">\n",
       "  <thead>\n",
       "    <tr style=\"text-align: right;\">\n",
       "      <th></th>\n",
       "      <th>0</th>\n",
       "      <th>1</th>\n",
       "    </tr>\n",
       "  </thead>\n",
       "  <tbody>\n",
       "    <tr>\n",
       "      <th>0</th>\n",
       "      <td>4.0</td>\n",
       "      <td>NaN</td>\n",
       "    </tr>\n",
       "    <tr>\n",
       "      <th>1</th>\n",
       "      <td>2.0</td>\n",
       "      <td>NaN</td>\n",
       "    </tr>\n",
       "    <tr>\n",
       "      <th>2</th>\n",
       "      <td>3.0</td>\n",
       "      <td>NaN</td>\n",
       "    </tr>\n",
       "    <tr>\n",
       "      <th>3</th>\n",
       "      <td>2.0</td>\n",
       "      <td>NaN</td>\n",
       "    </tr>\n",
       "    <tr>\n",
       "      <th>4</th>\n",
       "      <td>4.0</td>\n",
       "      <td>NaN</td>\n",
       "    </tr>\n",
       "    <tr>\n",
       "      <th>...</th>\n",
       "      <td>...</td>\n",
       "      <td>...</td>\n",
       "    </tr>\n",
       "    <tr>\n",
       "      <th>3995</th>\n",
       "      <td>2.0</td>\n",
       "      <td>NaN</td>\n",
       "    </tr>\n",
       "    <tr>\n",
       "      <th>3996</th>\n",
       "      <td>4.0</td>\n",
       "      <td>NaN</td>\n",
       "    </tr>\n",
       "    <tr>\n",
       "      <th>3997</th>\n",
       "      <td>3.0</td>\n",
       "      <td>NaN</td>\n",
       "    </tr>\n",
       "    <tr>\n",
       "      <th>3998</th>\n",
       "      <td>1.0</td>\n",
       "      <td>NaN</td>\n",
       "    </tr>\n",
       "    <tr>\n",
       "      <th>3999</th>\n",
       "      <td>4.0</td>\n",
       "      <td>NaN</td>\n",
       "    </tr>\n",
       "  </tbody>\n",
       "</table>\n",
       "<p>4000 rows × 2 columns</p>\n",
       "</div>"
      ],
      "text/plain": [
       "        0   1\n",
       "0     4.0 NaN\n",
       "1     2.0 NaN\n",
       "2     3.0 NaN\n",
       "3     2.0 NaN\n",
       "4     4.0 NaN\n",
       "...   ...  ..\n",
       "3995  2.0 NaN\n",
       "3996  4.0 NaN\n",
       "3997  3.0 NaN\n",
       "3998  1.0 NaN\n",
       "3999  4.0 NaN\n",
       "\n",
       "[4000 rows x 2 columns]"
      ]
     },
     "execution_count": 97,
     "metadata": {},
     "output_type": "execute_result"
    }
   ],
   "source": [
    "final_tpred"
   ]
  },
  {
   "cell_type": "code",
   "execution_count": 115,
   "metadata": {},
   "outputs": [],
   "source": [
    "df.to_csv('random_forest_testset_med.csv')"
   ]
  },
  {
   "cell_type": "code",
   "execution_count": 93,
   "metadata": {},
   "outputs": [
    {
     "data": {
      "text/plain": [
       "(3999, 2)"
      ]
     },
     "execution_count": 93,
     "metadata": {},
     "output_type": "execute_result"
    }
   ],
   "source": [
    "final_tpred.shape()"
   ]
  },
  {
   "cell_type": "code",
   "execution_count": 116,
   "metadata": {},
   "outputs": [
    {
     "data": {
      "text/html": [
       "<div>\n",
       "<style scoped>\n",
       "    .dataframe tbody tr th:only-of-type {\n",
       "        vertical-align: middle;\n",
       "    }\n",
       "\n",
       "    .dataframe tbody tr th {\n",
       "        vertical-align: top;\n",
       "    }\n",
       "\n",
       "    .dataframe thead th {\n",
       "        text-align: right;\n",
       "    }\n",
       "</style>\n",
       "<table border=\"1\" class=\"dataframe\">\n",
       "  <thead>\n",
       "    <tr style=\"text-align: right;\">\n",
       "      <th></th>\n",
       "      <th>id</th>\n",
       "      <th>popularity</th>\n",
       "    </tr>\n",
       "  </thead>\n",
       "  <tbody>\n",
       "    <tr>\n",
       "      <th>0</th>\n",
       "      <td>4943</td>\n",
       "      <td>high</td>\n",
       "    </tr>\n",
       "    <tr>\n",
       "      <th>1</th>\n",
       "      <td>16165</td>\n",
       "      <td>low</td>\n",
       "    </tr>\n",
       "    <tr>\n",
       "      <th>2</th>\n",
       "      <td>6774</td>\n",
       "      <td>average</td>\n",
       "    </tr>\n",
       "    <tr>\n",
       "      <th>3</th>\n",
       "      <td>9959</td>\n",
       "      <td>low</td>\n",
       "    </tr>\n",
       "    <tr>\n",
       "      <th>4</th>\n",
       "      <td>13818</td>\n",
       "      <td>high</td>\n",
       "    </tr>\n",
       "  </tbody>\n",
       "</table>\n",
       "</div>"
      ],
      "text/plain": [
       "      id popularity\n",
       "0   4943       high\n",
       "1  16165        low\n",
       "2   6774    average\n",
       "3   9959        low\n",
       "4  13818       high"
      ]
     },
     "execution_count": 116,
     "metadata": {},
     "output_type": "execute_result"
    }
   ],
   "source": [
    "df=pd.read_csv('random_forest_testset_med.csv')\n",
    "# df.drop('Unnamed: 2',axis=1,inplace=True)\n",
    "df.head()\n"
   ]
  },
  {
   "cell_type": "code",
   "execution_count": 112,
   "metadata": {},
   "outputs": [],
   "source": [
    "df['id']=df_test['id']"
   ]
  },
  {
   "cell_type": "code",
   "execution_count": 107,
   "metadata": {},
   "outputs": [],
   "source": [
    "dict={1:'very low',2:'low',3:'average',4:'high',5:'very high'}\n",
    "df['popularity'].replace(dict,inplace=True)"
   ]
  },
  {
   "cell_type": "code",
   "execution_count": 193,
   "metadata": {},
   "outputs": [
    {
     "data": {
      "image/png": "[encoded data removed]",
      "text/plain": [
       "<Figure size 432x288 with 1 Axes>"
      ]
     },
     "metadata": {
      "needs_background": "light"
     },
     "output_type": "display_data"
    }
   ],
   "source": [
    "import os\n",
    "import numpy as np\n",
    "import matplotlib.pyplot as plt\n",
    "\n",
    "x = ['very low', 'low', 'average', 'high', 'very high']\n",
    "\n",
    "y = [int(x) for x in  class_]\n",
    "\n",
    "fig, ax = plt.subplots()    \n",
    "width = 0.7 # the width of the bars \n",
    "ind = np.arange(len(y))  # the x locations for the groups\n",
    "ax.barh(ind, y, width, color=\"darkslategrey\")\n",
    "ax.set_yticks(ind+width/2-0.3)\n",
    "ax.set_yticklabels(x, minor=False,fontsize=12)\n",
    "plt.title('Frequency distribution over classes',color='darkolivegreen')\n",
    "plt.xlabel('No of music that were bid')\n",
    "plt.ylabel('Popularity',color='darkgreen')      \n",
    "for i, v in enumerate(y):\n",
    "    ax.text(v - 96, i - .1, str(v), color='white',fontsize=10)\n",
    "\n",
    "plt.savefig('random_forest_testset_med.png', dpi=300, format='png', bbox_inches='tight')\n",
    "plt.show()\n"
   ]
  },
  {
   "cell_type": "code",
   "execution_count": null,
   "metadata": {},
   "outputs": [],
   "source": []
  },
  {
   "cell_type": "code",
   "execution_count": null,
   "metadata": {},
   "outputs": [],
   "source": []
  },
  {
   "cell_type": "code",
   "execution_count": null,
   "metadata": {},
   "outputs": [],
   "source": []
  },
  {
   "cell_type": "code",
   "execution_count": null,
   "metadata": {
    "id": "2hfyml_DeLVN"
   },
   "outputs": [],
   "source": [
    "def re_predict(data, threshods):\n",
    "\n",
    "    argmax = np.argmax(data)\n",
    "\n",
    "    ## If the argmax is 2 (class-3) then ovbiously return this highest label\n",
    "    if argmax == 2: \n",
    "        return (argmax +1)\n",
    "\n",
    "    # If argmax is 1 (class-2) there is a chnace that, label is class-2 if\n",
    "    # the probability of the class is greater than the threshold otherwise obviously\n",
    "    # return this highest label (class-3)\n",
    "    elif argmax == 1:\n",
    "        if data[argmax] >= threshods[argmax] : \n",
    "            return (argmax +1)\n",
    "        else:\n",
    "            return (argmax +2)\n",
    "\n",
    "    # If the argmax is 0 (class-1) then there are chances that label is class-1 if\n",
    "    # the probability of the class is greater than the threshold otherwise label can be\n",
    "    # either next two highest labels (class-2 or class-3). To determine the exact class\n",
    "    # class, we have to consider four cases.\n",
    "    # case A : if class_2_prob >= threshold and class_3_prob < threshold then pick class-2\n",
    "    # case B : if class_3_prob >= threshold and class_2_prob < threshold then pick class-3\n",
    "    # case C : if class_2_prob < threshold and class_3_prob < threshold then pick class-1\n",
    "    # case D : if class_2_prob > threshold and class_3_prob > threshold then pick class-3\n",
    "\n",
    "    elif argmax == 0:\n",
    "\n",
    "        if data[argmax] >= threshods[argmax] : \n",
    "            return (argmax +1)\n",
    "        else:\n",
    "            # case A : if class_2_prob >= threshold and class_3_prob < threshold then pick class-2\n",
    "            if data[argmax + 1] >= threshods[argmax + 1] and data[argmax + 2] < threshods[argmax + 2]:\n",
    "                return (argmax + 2)\n",
    "\n",
    "            # case B : if class_3_prob >= threshold and class_2_prob < threshold then pick class-3\n",
    "            if data[argmax + 2] >= threshods[argmax + 2] and data[argmax + 1] < threshods[argmax + 1]:\n",
    "                return (argmax + 3)\n",
    "\n",
    "            # case C : if class_2_prob < threshold and class_3_prob < threshold then pick class-1\n",
    "            if data[argmax + 1] < threshods[argmax + 1] and data[argmax + 2] < threshods[argmax + 2]:\n",
    "                return (argmax + 1)\n",
    "\n",
    "            # case D : if class_2_prob > threshold and class_3_prob > threshold then pick class-3\n",
    "            if data[argmax + 1] > threshods[argmax + 1] and data[argmax + 2] > threshods[argmax + 2]:\n",
    "                return (argmax + 3)"
   ]
  },
  {
   "cell_type": "code",
   "execution_count": null,
   "metadata": {
    "id": "KfM02JXOecrq"
   },
   "outputs": [],
   "source": [
    "y =  label_binarize(ytrain, classes=[1, 2, 3 ,4 ,5])\n",
    "_, _, th1 = roc_curve(y[:, 0], train_proba[:, 0])\n",
    "_, _, th2 = roc_curve(y[:, 1], train_proba[:, 1])\n",
    "_, _, th3 = roc_curve(y[:, 2], train_proba[:, 2])\n",
    "_, _, th4 = roc_curve(y[:, 3], train_proba[:, 3])\n",
    "_, _, th5 = roc_curve(y[:, 4], train_proba[:, 4])"
   ]
  },
  {
   "cell_type": "code",
   "execution_count": null,
   "metadata": {
    "colab": {
     "base_uri": "https://localhost:8080/"
    },
    "id": "q7XYqgtwek5m",
    "outputId": "9057c81e-d524-465b-fac0-bc67e3d15e57"
   },
   "outputs": [],
   "source": [
    "print(np.median(th1))\n",
    "print(np.median(th2))\n",
    "print(np.median(th3))\n",
    "print(np.median(th4))\n",
    "print(np.median(th5))"
   ]
  },
  {
   "cell_type": "code",
   "execution_count": null,
   "metadata": {
    "id": "GkKipthSfRbE"
   },
   "outputs": [],
   "source": [
    "threshold = [0.21,0.38,0.32,0.29,0.30]\n",
    "new_pred = []\n",
    "for i in range(train_pred.shape[0]):\n",
    "    new_pred.append(re_predict(train_proba[i, :], threshold))"
   ]
  },
  {
   "cell_type": "code",
   "execution_count": null,
   "metadata": {
    "colab": {
     "base_uri": "https://localhost:8080/",
     "height": 209
    },
    "id": "DjSKDqLcjqTq",
    "outputId": "2cb88a71-f39d-41cf-8562-ed7c95f2454f"
   },
   "outputs": [],
   "source": []
  },
  {
   "cell_type": "code",
   "execution_count": null,
   "metadata": {
    "colab": {
     "base_uri": "https://localhost:8080/",
     "height": 398
    },
    "id": "awkxCj7zfggW",
    "outputId": "f1d49574-a7d2-47fd-c3e8-02aa6e60c930"
   },
   "outputs": [],
   "source": [
    "print('1. The F-1 score of the model {}\\n'.format(f1_score(ytrain, new_pred, average='macro')))\n",
    "print('2. The recall score of the model {}\\n'.format(recall_score(ytrain, new_pred, average='macro')))\n",
    "print('3. Classification report \\n {} \\n'.format(classification_report(ytrain, new_pred)))\n",
    "print('4. Confusion matrix \\n {} \\n'.format(confusion_matrix(ytrain, new_pred)))"
   ]
  },
  {
   "cell_type": "code",
   "execution_count": null,
   "metadata": {
    "colab": {
     "base_uri": "https://localhost:8080/"
    },
    "id": "koK7a3_LmbDo",
    "outputId": "e881d143-11db-4e5e-a4c3-3054b408b41d"
   },
   "outputs": [],
   "source": [
    "test_proba.shape"
   ]
  },
  {
   "cell_type": "code",
   "execution_count": null,
   "metadata": {
    "id": "__Zaqw7xo9_p"
   },
   "outputs": [],
   "source": [
    "final_tpred_prob3 = []\n",
    "for i in range(test_proba.shape[0]):\n",
    "    final_tpred_prob3.append(re_predict(test_proba[i, :], threshold))"
   ]
  },
  {
   "cell_type": "code",
   "execution_count": null,
   "metadata": {
    "id": "JjIykxB8pAZx"
   },
   "outputs": [],
   "source": [
    "tpred_prob3 = pd.DataFrame(final_tpred_prob3)\n",
    "tpred_prob3.to_csv('final.csv', index=False, header=False)"
   ]
  },
  {
   "cell_type": "code",
   "execution_count": null,
   "metadata": {
    "colab": {
     "base_uri": "https://localhost:8080/",
     "height": 424
    },
    "id": "-fdY6yQEpCwv",
    "outputId": "301a4113-132e-4d54-a0b7-6dcf149b007c"
   },
   "outputs": [],
   "source": [
    "tpred_prob3"
   ]
  },
  {
   "cell_type": "code",
   "execution_count": null,
   "metadata": {
    "id": "6rMzorGPpP_c"
   },
   "outputs": [],
   "source": []
  }
 ],
 "metadata": {
  "accelerator": "GPU",
  "colab": {
   "collapsed_sections": [],
   "name": "imbalance_class_model.ipynb",
   "provenance": []
  },
  "kernelspec": {
   "display_name": "Python 3",
   "language": "python",
   "name": "python3"
  },
  "language_info": {
   "codemirror_mode": {
    "name": "ipython",
    "version": 3
   },
   "file_extension": ".py",
   "mimetype": "text/x-python",
   "name": "python",
   "nbconvert_exporter": "python",
   "pygments_lexer": "ipython3",
   "version": "3.8.3"
  }
 },
 "nbformat": 4,
 "nbformat_minor": 1
}
